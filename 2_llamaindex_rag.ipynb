{
 "cells": [
  {
   "cell_type": "markdown",
   "metadata": {},
   "source": [
    "# 2 - Leverage LLamaIndex with VertexAI Vector Search to perform question answering RAG\n",
    "\n",
    "## Overview\n",
    "\n",
    "This notebook will go over how to create a RAG framework using LlamaIndex and VertexAI Vector Search effectively.\n",
    "\n",
    "LlamaIndex is used to parse, chunk, and embed the input data using Gemini Text Embedding models. We use store the parsed data in a VertexAI Vector Search index that will searched against during inference to retrieve context to augment prompts for question answering task.\n",
    "\n",
    "### Objectives\n",
    "This notebook provides a guide to building a questions answering system using retrieval augmented generation (RAG) framework that leverages LLamaIndex for data ingestion and Vector Store creation.\n",
    "\n",
    "You will complete the following tasks:\n",
    "\n",
    "1. Set up Google Cloud resources required: GCS Bucket and Vertex AI Vector Search index and deployed endpoint\n",
    "2. Ingest, parse, chunk, and embed data using LlamaIndex with Gemini Text Embedding models.\n",
    "3. Search the vector store with an incoming text queries to find similar text data that can be used as context in the prompt\n",
    "4. Generate answer to the user query using Gemini Pro Model"
   ]
  },
  {
   "cell_type": "markdown",
   "metadata": {},
   "source": [
    "### Imports\n",
    "\n",
    "Install any dependencies that are needed."
   ]
  },
  {
   "cell_type": "code",
   "execution_count": null,
   "metadata": {},
   "outputs": [],
   "source": [
    "!pip install llama-index \\\n",
    "  llama-index-embeddings-vertex \\\n",
    "  llama-index-llms-vertex \\\n",
    "  llama-index-vector_stores-vertexaivectorsearch \\\n",
    "  langchain-community \\\n",
    "  termcolor \\\n",
    "  llama-index-llms-langchain \\\n",
    "  llama-index-llms-fireworks \\\n",
    "  langchainhub -q"
   ]
  },
  {
   "cell_type": "code",
   "execution_count": 49,
   "metadata": {},
   "outputs": [],
   "source": [
    "#Imports\n",
    "import os\n",
    "from llama_index.core import (\n",
    "    SimpleDirectoryReader,\n",
    "    VectorStoreIndex,\n",
    "    StorageContext,\n",
    "    Settings,\n",
    "    PromptTemplate\n",
    ")\n",
    "from llama_index.embeddings.vertex import VertexTextEmbedding\n",
    "from llama_index.llms.vertex import Vertex\n",
    "from llama_index.core.prompts import LangchainPromptTemplate\n",
    "from langchain import hub\n",
    "from llama_index.vector_stores.vertexaivectorsearch import VertexAIVectorStore\n",
    "from termcolor import colored\n"
   ]
  },
  {
   "cell_type": "code",
   "execution_count": 10,
   "metadata": {},
   "outputs": [],
   "source": [
    "PROJECT_ID = \"\" #TODO - add your project-id here from the console\n",
    "REGION = \"\"  #TODO - add your region here from the console\n",
    "GCS_BUCKET = \"llama_gcs_bucket\"  # @param {type:\"string\"}\n",
    "VS_INDEX_NAME = \"llamaindex_doc_index\"  # @param {type:\"string\"}\n",
    "VS_INDEX_ENDPOINT_NAME = \"llamaindex_doc_endpoint\"  # @param {type:\"string\"}\n",
    "DOC_FOLDER = \"./data\"  # @param {type:\"string\"}"
   ]
  },
  {
   "cell_type": "code",
   "execution_count": 11,
   "metadata": {},
   "outputs": [],
   "source": [
    "import vertexai\n",
    "\n",
    "vertexai.init(project=PROJECT_ID, location=REGION)"
   ]
  },
  {
   "cell_type": "markdown",
   "metadata": {},
   "source": [
    "### Investigate sample data\n",
    "\n",
    "Refer to document 04a02.pdf\n",
    "\n",
    "This document describes the importance of stable power grids in Japan, highlighting the recent failure of a generator step-up transformer at the Nakoso Power Station and the rapid restoration response undertaken to maintain power supply stability.\n",
    "\n",
    "We will use this pdf moving forward."
   ]
  },
  {
   "cell_type": "markdown",
   "metadata": {},
   "source": [
    "## Ingest data using Llama-Index into VertexAI Vector Search\n",
    "\n",
    "The following section leverages LlamaIndex to ingest, chunk, and embed the PDF data to be connected to the VertexAI Vector Store.\n",
    "\n",
    "At the end of this section you will be ready to query against the Vector Store to find relevant context."
   ]
  },
  {
   "cell_type": "code",
   "execution_count": 38,
   "metadata": {},
   "outputs": [],
   "source": [
    "def initialize_llm_and_storage(vs_index, vs_endpoint):\n",
    "    \"\"\"\n",
    "    Initializes VertexAI Vector Store given a VertexAI Search index and deployed endpoint.\n",
    "    Configures embedding and LLMs models to be gecko and Gemini.\n",
    "    \"\"\"\n",
    "    # setup storage\n",
    "    vector_store = VertexAIVectorStore(\n",
    "        project_id=PROJECT_ID,\n",
    "        region=REGION,\n",
    "        index_id=vs_index,\n",
    "        endpoint_id=vs_endpoint,\n",
    "        gcs_bucket_name=GCS_BUCKET,\n",
    "    )\n",
    "\n",
    "    # set storage context\n",
    "    storage_context = StorageContext.from_defaults(vector_store=vector_store)\n",
    "\n",
    "    gemini_embedding_model = VertexTextEmbedding(\"text-embedding-004\")\n",
    "    llm = Vertex(\"gemini-pro\")\n",
    "\n",
    "    Settings.embed_model = gemini_embedding_model\n",
    "    Settings.llm=llm\n",
    "\n",
    "    return storage_context\n",
    "\n",
    "def ingest_document():\n",
    "    '''\n",
    "    Using SimpleDirectoryReader, which creates documents out of every file in a given directory. It is built in to LlamaIndex and can read a variety of formats including Markdown, PDFs, Word documents, PowerPoint decks, images, audio and video.\n",
    "    '''\n",
    "    documents = SimpleDirectoryReader(input_files=[DOC_FOLDER+\"/04a02.pdf\"]).load_data()\n",
    "    return documents"
   ]
  },
  {
   "cell_type": "markdown",
   "metadata": {},
   "source": [
    "Initialize a LlamaIndex retriever on VertexAI using the resources created in the gcp.setup.ipynb notebook.\n",
    "\n",
    "Copy and paste the values from the previous notebook  in the cell below."
   ]
  },
  {
   "cell_type": "code",
   "execution_count": 40,
   "metadata": {},
   "outputs": [],
   "source": [
    "vs_index_id = \"\" #TODO - add your vertexai search id from setup here\n",
    "vs_endpoint_id = \"\"  #TODO - add your vertexai search deployed endpoint id from setup here"
   ]
  },
  {
   "cell_type": "code",
   "execution_count": 41,
   "metadata": {},
   "outputs": [],
   "source": [
    "storage_context = initialize_llm_and_storage(vs_index_id, vs_endpoint_id)\n",
    "docs = ingest_document()"
   ]
  },
  {
   "cell_type": "code",
   "execution_count": 42,
   "metadata": {},
   "outputs": [
    {
     "data": {
      "text/plain": [
       "[Document(id_='3208bdd0-8ec1-4c55-ac30-efea3b463ec2', embedding=None, metadata={'page_label': '60', 'file_name': '04a02.pdf', 'file_path': 'data/04a02.pdf', 'file_type': 'application/pdf', 'file_size': 1462074, 'creation_date': '2024-08-14', 'last_modified_date': '2024-08-14'}, excluded_embed_metadata_keys=['file_name', 'file_type', 'file_size', 'creation_date', 'last_modified_date', 'last_accessed_date'], excluded_llm_metadata_keys=['file_name', 'file_type', 'file_size', 'creation_date', 'last_modified_date', 'last_accessed_date'], relationships={}, text='60.FEATURED ARTICLES Power Grids for a Sustainable Energy Future\\n1. Introduction\\nTh e proportion of Japan’s annual power generation capac-\\nity taken up by thermal power generation has decreased \\nsteadily since the oil crisis in the 1970s. But since the Great \\nEast Japan Earthquake in 2011, the proportion increased \\nas thermal power generatio n replaced nuclear power gen-\\neration. Th  en, the proportion of thermal power started to \\ndecrease again as the use of renewable energy expanded \\nand some nuclear power stations were restarted; even so, it \\nstill makes up about 70% (about 700 billion kWh) of the \\npower supply in Japan.\\nOf this 70%, the Nakoso Power Station of Jōban Joint Power Co., Ltd., a complex containing three power genera-\\ntors (unit No. 7 generator: 250,000 kW, unit No. 8 genera-tor: 600,000 kW, and unit No. 9 generator: 600,000 kW) \\nprovides an amount of power equivalent to about 1% of \\nJapan’s thermal power generation (7 to 10 billion kWh \\nannually) to the Tohoku and Tokyo areas. However, on \\nSeptember 16, 2021, a failure due to aging forced an emer-\\ngency stop of the unit No. 8 generator step-up transformer \\n(GSUT) at Nakoso Power Station. Th  is shut down the \\nsupply of 600,000 kW of electric power, which is equivalent \\nto about 1% of the total demand peak in the Tokyo area. In \\nresponse, Hitachi was requested to conduct rapid restora-\\ntion work to restart the power generation and help secure \\nthe reserve rate of 3%.Hikaru Fujita\\nMasaru KashiwakuraAkihiro KawagoeHisaki HamamotoTetsuo NiitsumaYuzuru MitaniThe stable supply of electric power requires a minimum reserve rate of 3%. However, \\never since the Great East Japan Earthquake in 2011, the margin between the supply and demand of electricity in Japan has been tight. When demand for electric power increases due to extremely hot or cold weather and the risk grows of not securing the 3% reserve rate, the authorities issue a power crunch warning or alert. It was in this context that on September 16, 2021, a failure due to aging forced the emergency stop of the unit No. 8 generator step-up transformer (built in 1981) at the Nakoso Power Station of Jōban Joint Power Co., Ltd. This shut down the supply of 600,000 kW of electric power, which is equivalent to about 1% of the total demand peak in the Tokyo area. Hitachi, Ltd. received a request from the customer for the rapid restoration of the power station to help stabilize the power supply in Japan. In a project that would normally take more than a year to deliver from receiving the order to transmitting power, all stakeholders came together as a team to complete the work in about 9 months.Rapid Restoration of Unit No. 8 \\nGenerator Step-up Transformer at Nakoso Power Station', mimetype='text/plain', start_char_idx=None, end_char_idx=None, text_template='{metadata_str}\\n\\n{content}', metadata_template='{key}: {value}', metadata_seperator='\\n'),\n",
       " Document(id_='638614af-c111-47f3-91f5-802fcbae14bf', embedding=None, metadata={'page_label': '61', 'file_name': '04a02.pdf', 'file_path': 'data/04a02.pdf', 'file_type': 'application/pdf', 'file_size': 1462074, 'creation_date': '2024-08-14', 'last_modified_date': '2024-08-14'}, excluded_embed_metadata_keys=['file_name', 'file_type', 'file_size', 'creation_date', 'last_modified_date', 'last_accessed_date'], excluded_llm_metadata_keys=['file_name', 'file_type', 'file_size', 'creation_date', 'last_modified_date', 'last_accessed_date'], relationships={}, text='Hitachi Review Vol. 72, No. 4 432–433 61.2. Overview of Restoration\\nFigure 1  shows the main circuit confi  guration around the \\nunit No. 8 GSUT of the Nakoso Power Station that was \\nsubject to this restoration project.\\nAfter receiving notifi  cation about the failure of this \\ntransformer, Hitachi quickly dispatched inspectors to the \\nsite to investigate the cause of the failure and start consider-\\ning methods for rapid restoration. Hitachi considered the \\nrestoration methods of onsite repair, off  site repair, replace-\\nment with a spare from another power plant, or manufac-\\nture of a new transformer. Hitachi submitted a report to the customer that detailed the work schedule and various \\nconditions for all of these restoration methods, as well as the \\nresults of the cause of failure investigation. After discussing \\nthese results together, the customer selected the rapid res-toration proposal based on replacing the transformer with \\none that would be newly manufactured. Hitachi conducted \\nan additional investigation into the cause of failure and \\nconsidered countermeasures to prevent the same incident \\nfrom occurring with the new transformer.\\nTwo proposals were considered for where to manufac-\\nture the new transformer; at the Hitachi Works Kokubu \\nFactory (Kokubu Factory) or at the Chongqing Factory of Hitachi Energy (China) Ltd. (Chongqing Factory). In this \\nproject, since Hitachi received consent from the customer \\nto re-examine some of the existing interfacing parts, the \\nKokubu Factory was selected because it owns the existing Tokyo EPCO grid Tohoku EPCO grid\\n275 kV GIS\\nUnit No. 9 GSUT\\n680 MVA 275 kV (21 Tap)/17.55 kVUnit No. 8 GSUT\\n680 MVA \\n275 kV (21 Tap)/17.55 kVSwitching station\\nPower station\\nFlexible conductor\\nIPB\\nSwitch\\nUnit No. 9 \\ngenerator600 MWFlexible conductor\\nIPB\\nG GSwitch\\nUnit No. 8 \\ngenerator600 MWFigure 1 — Schematic Diagram of Nakoso Power Station\\nIn this project, Hitachi worked toward the rapid restoration of the unit \\nNo. 8 GSUT .\\nEPCO: electric power company   GIS: gas insulated switchgear   \\nIPB: isolated phase bus   G: generator   GSUT: generator step-up transformer\\nCategory\\nCustomer\\nRegular\\nmeetings\\nEquipment\\nmanufacture\\nTransportationHitachi\\nOnsite\\nworkFailure cause \\ninvestigation, \\nrestoration proposal \\nconsiderationTransformer failure Commercial \\noperation restarted\\nRestoration instructions Power transmission About 9 months\\nCable connection, \\nIPB connection Removal of existing transformer, etc.\\nAdditional failure cause investigation Failure cause investigation, \\nrestoration proposal consideration\\nDesign, \\nprocurement\\nInvestigations, \\nvarious \\napplicationsTransportation route countermeasure work\\nTransportation (factory to Nakoso Power Station)\\nTransportation within site, on base\\nOn base heavy equipment installation\\nCable pocket replacement, cooler assembly\\nTemporary assembly at assembly area\\nMain assembly to standalone testing at installation area\\nSystem testingWinding\\nCore stacking\\nCoil and core assembly/drying\\nFinal assembly/testing/shipmentBetween customer and Hitachi: Every Wednesday + ad hoc (as necessary)\\nWithin Hitachi: Every Tuesday + ad hoc (as necessary)Process 2021\\nSep. Oct. Nov. Dec. Jan. Feb. Mar. Apr. May Jun. Jul. Aug.2022Figure 2 — Overview of Restoration Process Results for Unit No. 8 GSUT\\nIn addition to investigating the causes of the failure immediately aft  er the failure occurred, Hitachi considered various rapid restoration methods and \\ncompleted the project in about 9 months; normally, the process from receiving the order to transmitting power would take more t han a year to deliver.', mimetype='text/plain', start_char_idx=None, end_char_idx=None, text_template='{metadata_str}\\n\\n{content}', metadata_template='{key}: {value}', metadata_seperator='\\n'),\n",
       " Document(id_='4e6a6c70-58ca-4e62-8cd0-8f69b978ca10', embedding=None, metadata={'page_label': '62', 'file_name': '04a02.pdf', 'file_path': 'data/04a02.pdf', 'file_type': 'application/pdf', 'file_size': 1462074, 'creation_date': '2024-08-14', 'last_modified_date': '2024-08-14'}, excluded_embed_metadata_keys=['file_name', 'file_type', 'file_size', 'creation_date', 'last_modified_date', 'last_accessed_date'], excluded_llm_metadata_keys=['file_name', 'file_type', 'file_size', 'creation_date', 'last_modified_date', 'last_accessed_date'], relationships={}, text='62.design. Although the Chongqing Factory was not selected \\ndue to transportation times and conditions, the high level \\nof its product manufacturing capacity was confi  rmed, with \\nalmost no diff  erence from the Kokubu Factory, even when \\nconsidering the new design and the manufacturing period \\nfor all the new parts.\\nHitachi shortened the process while sharing and con-\\nsulting with the customer about the risks and opportuni-\\nties inherent in rapid restoration across the entire project, \\nincluding manufacturing, transportation, and construction \\nwork. Th  is enabled Hitachi to complete the project from \\nreceiving the restoration instructions to transmitting the \\npower in a very short delivery time of about 9 months \\n(see Figure 2 ).\\nTh is article describes how Hitachi was able to cope with \\nsuch a short delivery time while ensuring quality and avoid-\\ning accidents.\\n3. Coping with the Short \\nDelivery Time\\nTh is section describes the actions Hitachi took to achieve \\nthe short delivery time.3. 1\\nProject Setup\\nImmediately after receiving the restoration instructions, \\nHitachi appointed its internal project members (from \\nthe business unit and design, procurement, manufactur-\\ning, quality assurance, transportation, and construction \\ndepartments) and set up regular meetings (within Hitachi: every Tuesday, between the customer and Hitachi: every \\nWednesday). Th  is created a system that could confi  rm the \\nprogress of work in a timely manner. Hitachi also held \\nad hoc meetings if any urgent matters were discovered to \\nensure actions could be taken without delay to avoid risks \\n(process delay or malfunctions) or to make the most of \\nopportunities (shortening the process).\\n3. 2\\nDesign, Procurement, and Manufacturing Measures\\n(1) Repeated existing design\\nRepeating the same design as the existing plant enabled \\nthe design time to be shortened compared to completely \\nnew manufacturing.\\n(1) Material reception\\n(4) Iron plate cutting (5) Core stacking (6) Core assembly(2) Winding\\nElectric wire\\nSilicon steel \\nplatePress board(3) Coil assembly\\n(7) Coil and core assembly\\n(8) Coil and \\ncore preliminary \\ntesting\\n(9) Coil and core drying\\n(16) Transportation (14) Testing(15) Readying \\nfor delivery(13) Vacuum lubrication, \\ndegassing circulation(12) Overall assembly \\n(final assembly)\\nExterior parts\\n• L TC\\n• Bushing• Cooler• Control panel\\n• Auxiliary device \\nparts, etc.(11) Inner tank \\ninsertion(10) Tank/coverFigure 3 — Overview of Transformer Manufacturing Flow\\nThe process for winding, core stacking, core assembly, final assembly, factory testing, and readying for delivery was shortened  via measures such as \\novertime and day and night work shift  s.\\nL TC: on-load tap changer', mimetype='text/plain', start_char_idx=None, end_char_idx=None, text_template='{metadata_str}\\n\\n{content}', metadata_template='{key}: {value}', metadata_seperator='\\n'),\n",
       " Document(id_='ca53d539-8df9-4c35-a80d-60401e0c64f3', embedding=None, metadata={'page_label': '63', 'file_name': '04a02.pdf', 'file_path': 'data/04a02.pdf', 'file_type': 'application/pdf', 'file_size': 1462074, 'creation_date': '2024-08-14', 'last_modified_date': '2024-08-14'}, excluded_embed_metadata_keys=['file_name', 'file_type', 'file_size', 'creation_date', 'last_modified_date', 'last_accessed_date'], excluded_llm_metadata_keys=['file_name', 'file_type', 'file_size', 'creation_date', 'last_modified_date', 'last_accessed_date'], relationships={}, text='Hitachi Review Vol. 72, No. 4 434–435FEATURED ARTICLES\\n63.(2) Increased personnel in initial stage of design\\nHitachi requested the support of partner companies to \\nincrease the speed of creating design plans, arranging mate-\\nrials, and issuing manufacturing instructions.\\n(3) Delivery times backed up through dual design of parts \\nused\\nWhile implementing Plan A, which used all new parts, \\nHitachi also considered Plan B in parallel, which refur-\\nbished and re-used parts that had long delivery times (such \\nas oil level gauges, low-voltage bushings, and resistance \\nthermometers). Th  is hedged the risk if there were any delays \\nin Plan A.\\n(4) Identifi  ed the shortest supply routes\\n(a) Core materials and cutting process (supplier selection)\\nInitially, Hitachi expected to use suppliers within Japan, \\nbut due to uncertainty in the status of arranging processing \\nequipment, this was switched to an overseas supplier to \\nmitigate the risk of late delivery.\\n(b) Transportation method for on-load tap changer \\n(LTC), a part procured from overseas\\nInitially, Hitachi expected to use sea transport, but this \\nwas changed to air transport to meet the shortened manu-\\nfacturing schedule at the site, thus avoiding any interruption \\nof the manufacturing process.\\n(5) Adjusted the manufacturing process\\nVarious process-shortening methods were considered, \\naccording to factors such as onsite loading and material \\nreceiving status, and the factory shipment date was moved \\nforward from the initially expected date in the middle of June to May 19, shortening the delivery by about a month \\n(see Figure 3 ).\\n3. 3\\nAdjustment of Transportation Process\\n3. 3. 1 Transportation Overview\\nTh e transportation of the transformer in this project was \\nperformed overland from the Kokubu Factory to Hitachi \\nPort, by sea from Hitachi Port to Onahama Port, and then \\noverland from Onahama Port to Nakoso Power Station \\n(see Figure 4 ).\\n3. 3. 2 Mitigation Measures and Adjustments with \\nStakeholders\\nEven after removing the exterior parts for transportation, \\nthe weight of the transformer in this project was 290 t \\nand the stacked height on the vehicle was more than 9 \\nm, making it extremely large equipment. Th  is meant that \\nmitigation measures were required along the transportation \\nroute to protect objects buried underground, avoid overhead \\nobstacles, and reinforce bridges. Because there is no quay \\nwall for unloading from a ship at Nakoso Power Station, \\nmitigation measures were required across a wide range, not \\nonly on the public road from the Kokubu Factory to Hitachi \\nPort, but also on the public road from Onahama Port to \\nNakoso Power Station (see Figure 5 ).\\nFurthermore, as the factory shipment date was pushed \\nforward, the mitigation process was shortened, necessitating \\nmany negotiations with stakeholders related to the roads, \\nOnahama Port\\n(Fujiwara Wharf) Transportation route\\nAvoidance of overhead obstacles \\n(power lines, communication \\nlines, traffic signs, signboards)\\nTemporary staying area \\nto Nakoso Power Station\\nAbout 2.5 km\\nIron plates laid out \\n(to protect buried optical cables)\\nNakoso Power Station of Jōban \\nJoint Power Co., Ltd. Bridges reinforcedTemporary \\nstaying area\\nAdjusted date of using port \\nwith other companiesOnahama Port to \\ntemporary staying area About 4.5 kmFigure 4 — Transportation Route from Onahama Port to Temporary Staying Area to Nakoso Power Station\\nThe overall process from factory shipment to arrival on site was performed in the following order: May 19 (Thursday), night-tim e transport on public \\nroad (Hitachi Works Kokubu Factory to Hitachi Port); May 20 (Friday) 6:00 to 9:30, ship loading (Hitachi Port); 9:30 to 12:30, sea transport (Hitachi Port to \\nOnahama Port); 12:30 to 17:30, unloading from ship (Onahama Port); May 21 (Saturday) 3:00 to 6:00, transport on public road (On ahama Port to temporary \\nstaying area); 6:00 to 10:00, waiting (temporary staying area); 10:00 to 12:00 transport on public road (temporary staying area  to Nakoso Power Station).', mimetype='text/plain', start_char_idx=None, end_char_idx=None, text_template='{metadata_str}\\n\\n{content}', metadata_template='{key}: {value}', metadata_seperator='\\n'),\n",
       " Document(id_='299d1fc0-cbf3-4880-8ef3-9dc2f8bd34fa', embedding=None, metadata={'page_label': '64', 'file_name': '04a02.pdf', 'file_path': 'data/04a02.pdf', 'file_type': 'application/pdf', 'file_size': 1462074, 'creation_date': '2024-08-14', 'last_modified_date': '2024-08-14'}, excluded_embed_metadata_keys=['file_name', 'file_type', 'file_size', 'creation_date', 'last_modified_date', 'last_accessed_date'], excluded_llm_metadata_keys=['file_name', 'file_type', 'file_size', 'creation_date', 'last_modified_date', 'last_accessed_date'], relationships={}, text='64.vehicles, ports, shipping lanes, ships, heavy machinery, and \\nother areas used for transportation. Usually, the route from \\nthe Kokubu Factory to Hitachi Port can only be used at \\nnight on Friday. Hitachi needed to negotiate with local \\ncitizens, local government, and the police to obtain special \\npermission to travel the route at night on Th  ursday. Hitachi \\narranged the schedule so that the ship loading, sea transpor-\\ntation, and ship unloading, which would normally take three \\ndays, could be completed on the same day. Th  is avoided \\nwork on Sunday, which is prohibited in principle under local \\nrestrictions, for unloading the ship at Onahama Port and \\nthe transportation on the public road from Onahama Port to Nakoso Power Station. Th  ese actions shortened the time \\nfrom factory shipment to arrival at the site from the normal \\nfi ve days to three days, which was an unprecedentedly short \\ntransportation time.\\n3. 3. 3 Main Stakeholders for Large Equipment \\nTransportation\\n(1) Kokubu Factory to Hitachi Port\\nTh e main stakeholders were the road administrators, \\noverland transportation company, and transportation route \\ncountermeasure vendor.\\n(2) Hitachi Port to Onahama Port\\nTh e main stakeholders were the port administrators, \\nship loading vendor, sea transportation company, and ship \\nunloading vendor.\\n(3) Onahama Port to Nakoso Power StationTh e main stakeholders were the road administrators, \\noverland transportation company, and transportation route \\ncountermeasure vendor.\\n3. 4\\nAdjustment of Construction Process\\n3. 4. 1 Adjustment of Work Procedures and \\nPersonnel Assignment\\nHitachi held repeated discussions with the customer to \\nshorten onsite processes in any way possible, even if only \\nby one day. Th  e process was shortened as much as pos-\\nsible through measures such as improving workability by \\ndismantling the wall of the existing transformer building, \\nand a wrapping process to secure empty space within the \\npower station.\\nIn the installation area, the cable pocket was replaced and \\nthe cooler was assembled before the main unit was placed \\non the base. In parallel, the exterior parts were installed on \\nthe main unit in the empty space (assembly area) within the power station, and then the main unit was transported \\nwithin the site to the installation area, enabling a smooth \\ntransition to the next process (see \\nFigure 6 ).\\nFurthermore, an onsite system was constructed for work \\non holidays and in day and night shifts by borrowing per-\\nsonnel from other projects and increasing the number of \\nworkers from partner vendors. Other actions included reas-\\nsigning various workers to meet the shipment date that \\nwas pushed forward and coordinating with the customer’s \\nOnahama Port Temporary staying area\\nNakoso Power StationTransportation on public road\\nTransportation on public roadConstructed a temporary \\nstaying areaChanged position of traffic sign Monitoring \\noverhead cablesUnloading from ship Quay wall protected\\nBridges reinforced Iron plates laid out\\n(optical cable \\nembedded locations)Temporarily removed \\noverhead cablesAssembly area arrivalFigure 5 — Photographs of Transportation Route from Onahama Port to Temporary Staying Area to Nakoso Power Station\\nThe areas shown in the ovals were the subjects of countermeasures.', mimetype='text/plain', start_char_idx=None, end_char_idx=None, text_template='{metadata_str}\\n\\n{content}', metadata_template='{key}: {value}', metadata_seperator='\\n'),\n",
       " Document(id_='d731ba2b-bd57-4c57-bb30-d2b75ac3e50f', embedding=None, metadata={'page_label': '65', 'file_name': '04a02.pdf', 'file_path': 'data/04a02.pdf', 'file_type': 'application/pdf', 'file_size': 1462074, 'creation_date': '2024-08-14', 'last_modified_date': '2024-08-14'}, excluded_embed_metadata_keys=['file_name', 'file_type', 'file_size', 'creation_date', 'last_modified_date', 'last_accessed_date'], excluded_llm_metadata_keys=['file_name', 'file_type', 'file_size', 'creation_date', 'last_modified_date', 'last_accessed_date'], relationships={}, text='Hitachi Review Vol. 72, No. 4 436–437FEATURED ARTICLES\\n65.work schedule. Th  is enabled the entire work process from \\nequipment arrival to power transmission to be completed \\nwith almost no interruptions.\\n3. 4. 2 Process Adjustment for System Testing and \\nAdvance Arrangements\\nNormally, system testing is often performed together after \\nfi nishing the equipment standalone testing. However, in \\nthis project, the transformer standalone testing that could \\nbe performed on the same day, such as LTC remote opera-\\ntion testing, confi  rmation of remote display of alarm fail-\\nures, and current transformer (CT) polarity testing, were \\nperformed successively.\\nTh e cables used for system testing were laid out in \\nadvance between each testing location for a smooth tran-\\nsition to the testing process (see Figure 7 ).\\nInitially, there was not a single free day planned after the \\narrival of the equipment, but by continuing to explore every \\nopportunity to shorten the process, the power transmission \\nprocess that was scheduled for June 29 could be pushed \\nforward by two days to June 27 due to system testing.3. 4. 3 Main Stakeholders for Onsite Work\\n(1) Hitachi side\\nTh e main stakeholders were the construction workers, on \\nbase vendor, transportation route countermeasure vendor \\n(protection of buried objects within site), transformer instal-\\nlation supervisors, transformer installation test inspectors, \\nand system testing inspectors.\\n(2) Customer side\\nTh e main stakeholders were those involved in the \\nadvance work (such as existing transformer removal), cable \\nconnection, isolated phase bus (IPB) connection, fi  re hazard \\ninspection, and the power supply department of the power \\ncompany (arranged for the date of power transmission).\\n4. Quality Assurance\\n4. 1\\nCountermeasure for Potential Malfunctions\\nAlthough the existing design was repeated to achieve the \\nshortest possible delivery time, there were some areas of \\nInstallation area\\nAssembly areaCable pocket replacement Cooler assembly Conservator installation Slide, jack down\\nAseismatic fitting welding\\nOnsite testing to power transmission Installation of oil pipes, etc. Installation of HVBg pocket, LVBg, conservator stand, etc.DockingTransportation \\nwithin site\\nProtection within \\npower station siteFigure 6 — Photographs of Onsite Assembly and Installation Work\\nHitachi devised the shortest possible process by improving workability (dismantling the wall of the existing transformer buildi ng), performing work \\nbefore placing the main unit on base (cable pocket replacement, cooler assembly), and performing a wrapping process using empty  space (exterior part \\ninstallation).\\nHVBg: high-voltage bushing   LVBg: low-voltage bushing', mimetype='text/plain', start_char_idx=None, end_char_idx=None, text_template='{metadata_str}\\n\\n{content}', metadata_template='{key}: {value}', metadata_seperator='\\n'),\n",
       " Document(id_='b2542925-ab0b-4a0a-a762-95be5ff62beb', embedding=None, metadata={'page_label': '66', 'file_name': '04a02.pdf', 'file_path': 'data/04a02.pdf', 'file_type': 'application/pdf', 'file_size': 1462074, 'creation_date': '2024-08-14', 'last_modified_date': '2024-08-14'}, excluded_embed_metadata_keys=['file_name', 'file_type', 'file_size', 'creation_date', 'last_modified_date', 'last_accessed_date'], excluded_llm_metadata_keys=['file_name', 'file_type', 'file_size', 'creation_date', 'last_modified_date', 'last_accessed_date'], relationships={}, text='66.the 40-year-old design that could not be duplicated. Th  e \\ncountermeasures for such areas were reviewed closely by experts as Hitachi made every eff  ort to assure the quality \\nof the new transformer.\\n4. 1. 1 Discontinued Parts\\n(1) Resistance thermometer\\nTh e manufacturer had discontinued the manufacture of \\nthe existing part, but a diff  erent manufacturer was found \\nto produce an alternative (same specifi  cations as the exist-\\ning part).\\n(2) High-voltage bushing\\nTh e manufacturer had discontinued the manufacture of \\nthe existing part, but a diff  erent manufacturer was found to \\nproduce an alternative. Since the dimensions varied greatly \\nfrom the existing part, areas such as the interfacing parts \\nand the lead wire were re-examined.\\n(3) Steel material of main unit tank\\nTh e steel marine (SM) material of the existing unit is \\nno longer used, so the current steel structure (SS) material \\nwas studied instead.\\n4. 1. 2 Diff erences between Initial Delivery and \\nPresent Time\\n(1) Main unit tank material transportation\\nA transportation compliance review showed that trans-\\nportation with the same dimensions as the existing unit \\nwould not be possible. Th  is resulted in a plate-mounted \\nsplit structure for the main unit tank.\\n(2) Review of internal standards\\nTo prevent the overheating of bolts and other parts by \\nthe current circulating through locations such as the cable \\npocket, a conductor for current energization was added to the fl ange and the welding structure was changed.\\n4. 1. 3 Matching Interfaces with Existing Cable Heads\\nSince it was necessary to match the interfaces with the \\nexisting cable heads, the dimensions at the site were mea-\\nsured and the structure was changed to one with plenty of \\nallowance for adjustments, such as changing the bolt hole \\ndiameters and increasing the number of part divisions.\\n4. 2\\nProposals for Future Preventive Maintenance\\nTh e results of the investigation into the cause of the fail-\\nure of the unit No. 8 GSUT showed that a short circuit \\noccurred between taps. Th  is was caused by overheating and \\ndamage of the contacts on the LTC main unit tank side, due \\nto aging. About 40 years had elapsed since this transformer \\nhad started operations and the number of LTC switches \\nwas about 120,000, which is approximately one quarter of \\nthe number of switches generally expected. From these \\nfacts, it was deduced that the failure was a phenomenon \\nmore likely to occur under the conditions of both “signifi  -\\ncant aging” and a “low LTC switching frequency.” (When \\nsurface roughness and level diff  erences between specifi  c \\ncontacts progress due to use in a limited tap range and the \\nterminal position remains fi  xed, overheating occurs more \\neasily due to deterioration of contact energization, carbon \\nadhesion, and other factors.)\\nAs preventive maintenance for the future, in addition to \\nlifting inspections of the changeover switches on the regular \\nmaintenance menu, Hitachi added contactor inspections for \\nthe LTC segment (tap selection device, polarity switch) on \\nthe tank side of the transformer main unit in signifi  cantly \\naged equipment to the maintenance menu.\\nExisting spare core used as cable for testing\\nNew cable for testing laid out\\nCentral control room\\nTo power generation \\nequipment\\nUnit No. 8 GSUT yardUnit No. 8 GSUT yard \\nand turbine building275 kV switching \\nstation electric room\\nCooler control panelStation power supply \\nswitchgear roomSwitching station \\nelectric roomFigure 7 — Diagram of Cable Layout for \\nSystem Testing at Site\\nA communication line (2 cores), standard line \\n(2 cores), and matching phase detection line (1 core) were laid out. The results of an advance \\nsite investigation showed the need to lay out \\nnew cables for testing in sectors with no exist-\\ning spare cores.', mimetype='text/plain', start_char_idx=None, end_char_idx=None, text_template='{metadata_str}\\n\\n{content}', metadata_template='{key}: {value}', metadata_seperator='\\n'),\n",
       " Document(id_='cf4c5bd3-9aa6-49a7-9fae-914d44db3fc4', embedding=None, metadata={'page_label': '67', 'file_name': '04a02.pdf', 'file_path': 'data/04a02.pdf', 'file_type': 'application/pdf', 'file_size': 1462074, 'creation_date': '2024-08-14', 'last_modified_date': '2024-08-14'}, excluded_embed_metadata_keys=['file_name', 'file_type', 'file_size', 'creation_date', 'last_modified_date', 'last_accessed_date'], excluded_llm_metadata_keys=['file_name', 'file_type', 'file_size', 'creation_date', 'last_modified_date', 'last_accessed_date'], relationships={}, text='Hitachi Review Vol. 72, No. 4 438–439FEATURED ARTICLES\\n67.5. Prevention of Accidental \\nElectric Shocks\\nDuring the work disconnecting the existing transformer \\nfrom the cable heads, induced current from the adjacent \\noperating unit No. 9 was observed. As a result, Hitachi \\nconsidered countermeasures against electric shocks (see \\nFigure 8 ).\\nMeasures to reduce the induced current were taken by \\nconstructing a detour circuit when disconnecting the lead \\nwire between the existing transformer and the cable heads. \\nTh e results of subsequent verifi  cation also confi  rmed the \\neff ect of reducing the induced current by limiting the out-\\nput of unit No. 9. Th  erefore, when connecting the lead wire \\nbetween the new transformer and the cable heads, in addi-\\ntion to constructing the detour circuit, Hitachi asked the \\ncustomer to limit the output of unit No. 9, which further \\nreduced the induced current and made the work safe.6. Conclusions\\nTh is project to help solve the social problem of a power \\nsupply crunch was an invaluable experience for Hitachi, as \\nit looked beyond conventional frameworks to take the best \\nactions it could, while sharing with the customer infor-\\nmation about the risks and opportunities of shortening \\nprocesses. Hitachi made a signifi  cant contribution to power \\nsupply stabilization in Japan by rapidly restoring the unit \\nNo. 8 GSUT.\\nAcknowledgments\\nIn the work on the rapid restoration of the unit No. 8 \\nGSUT at the Nakoso Power Station of Jōban Joint Power \\nCo., Ltd., Hitachi received the support of Jōban Joint Power Co., Ltd. and many other stakeholders. Th  e authors would \\nlike to express their deepest gratitude to everyone involved \\nin the project.Electric shock risk while working \\n(induced current from unit No. 9 cable)\\nUnit No. 9\\n(operating)Unit No. 8\\n(stopped)\\nCHLead wire Unit No. 8 GSUT\\nNeutral point grounding\\nHV windingBg\\nWork grounding\\nWhen disconnecting \\nexisting transformer lead wire\\nWhen connecting new \\ntransformer lead wireReduce induced current by constructing detour circuit (procedure below)\\nAs above [in step (4), connect the lead wire](1) Connect the grounding wire to the CH section\\n(2) Disconnect the grounding wire connected to the neutral point\\n(3) Measure the current flowing to the lead wire with a clamp meter\\n(4) If there is no energized current or the current is low, cut the lead wire (× section) according \\nto the worksite instructions (quality assurance staff)\\n(5) After work, reconnect the grounding wire to the neutral point\\n       +\\nFurther reduce the induced voltage by limiting the output of unit No. 9\\n(from normal level of 500 MW to 250 MW during work)Step (1)Steps (3) and (4)Steps (2) and (5)\\nIo1 + Io2\\nIo1Io2\\nWork timing ActionsFigure 8 — Diagram of Induced Voltage Countermeasures\\nMeasures were taken to reduce the induced current when disconnecting and connecting the lead wire between the transformer and c able heads, which \\nreduced the risk of accidental electric shocks and allowed work to proceed.\\nHV: high-voltage side   CH: cable head   Bg: bushing', mimetype='text/plain', start_char_idx=None, end_char_idx=None, text_template='{metadata_str}\\n\\n{content}', metadata_template='{key}: {value}', metadata_seperator='\\n'),\n",
       " Document(id_='7325aee4-4c76-4c7e-826f-97ab88e762d4', embedding=None, metadata={'page_label': '68', 'file_name': '04a02.pdf', 'file_path': 'data/04a02.pdf', 'file_type': 'application/pdf', 'file_size': 1462074, 'creation_date': '2024-08-14', 'last_modified_date': '2024-08-14'}, excluded_embed_metadata_keys=['file_name', 'file_type', 'file_size', 'creation_date', 'last_modified_date', 'last_accessed_date'], excluded_llm_metadata_keys=['file_name', 'file_type', 'file_size', 'creation_date', 'last_modified_date', 'last_accessed_date'], relationships={}, text='68.Authors\\nHikaru Fujita\\nT&D Engineering Department, Transmission System Division, Transmission & Distribution Systems Division, Power Grids Business Unit, Hitachi, Ltd. Current work and research:  Engineering of substation \\nsystems for industry.\\nMasaru Kashiwakura\\nTransformer Department, T&D Engineering and Production Division, Transmission & Distribution \\nSystems Division, Power Grids Business Unit, Hitachi, \\nLtd. Current work and research:  Engineering of \\nmaintenance work for large-capacity transformers. Society memberships : The Institute of Electrical \\nEngineers of Japan (IEEJ).\\nAkihiro Kawagoe\\nValue Integration Center, Energy Business Division, \\nHitachi, Ltd. Current work and research:  Procurement \\nof goods for T&D equipment production.\\nHisaki Hamamoto\\nTransformer Department, T&D Engineering and \\nProduction Division, Transmission & Distribution \\nSystems Division, Power Grids Business Unit, Hitachi, Ltd. Current work and research:  Production control of \\ntransformers.\\nTetsuo Niitsuma\\nTransmission and Distribution QA Department, \\nQuality Assurance Division of Power Grids Business Unit, Power Grids Business Unit, Hitachi, Ltd. Current \\nwork and research:  Quality assurance of transformers.\\nYuzuru Mitani\\nBusiness Administration & Engineering Department, \\nT&D Engineering and Production Division, Transmission & Distribution Systems Division, Power Grids Business Unit, Hitachi, Ltd. Current work and \\nresearch:  Engineering of transportation and site \\ninstallation.\\nReferences\\n1) Agency for Natural Resources and Energy (ANRE), Ministry \\nof Economy, Trade and Industry (METI), “Measures for Electricity Supply and Demand for FY2021 Winter” (Oct. 2021) in Japanese, https://www.meti.go.jp/press/2021/10/20211027003/20211027003-1.pdf\\n2) ANRE, METI, “Outlook and Measures for Electricity Supply \\nand Demand for FY2022” (Jan. 2022) in Japanese, https://\\nwww.meti.go.jp/shingikai/enecho/denryoku_gas/denryoku_gas/pdf/044_04_00.pdf\\n3) Japan Atomic Energy Relations Organization (JAERO), \\n“Nuclear and Energy Drawings [1-2-07] Change in Electricity Generated and Received by Source” in Japanese, https://www.ene100.jp/zumen/1-2-7\\n4) Jōban Joint Power Co., Ltd., “Electricity Sales and \\nFuel Consumption” in Japanese, http://www.joban-power.co.jp/category/nakoso_power_plant/electricity_sales_and_fuel_consumption/', mimetype='text/plain', start_char_idx=None, end_char_idx=None, text_template='{metadata_str}\\n\\n{content}', metadata_template='{key}: {value}', metadata_seperator='\\n')]"
      ]
     },
     "execution_count": 42,
     "metadata": {},
     "output_type": "execute_result"
    }
   ],
   "source": [
    "# Here we can see the documents that were parsed using LlamaIndex\n",
    "docs"
   ]
  },
  {
   "cell_type": "markdown",
   "metadata": {},
   "source": [
    "## Perform Q/A RAG\n",
    "\n",
    "This section peforms the RAG prompt and returns an answer to the user query. To explore RAG frameworks we will look at 3 different options:\n",
    "\n",
    "1. Using the built-in RAG prompt provided by LlamaIndex\n",
    "2. Connecting a LangChain RAG template\n",
    "3. Creating a custom few-shot example RAG template.\n",
    "\n",
    "For each option, you will see the current text prompt structure and the generated output."
   ]
  },
  {
   "cell_type": "code",
   "execution_count": 43,
   "metadata": {},
   "outputs": [],
   "source": [
    "# Setting up helper functions\n",
    "\n",
    "def display_prompt_dict(prompts_dict):\n",
    "    \"\"\"\n",
    "    Used to display the underlying text prompt used for RAG.\n",
    "    \"\"\"\n",
    "    for k, p in prompts_dict.items():\n",
    "        text_md = f\"**Prompt Key**: {k}<br>\" f\"**Text:** <br>\"\n",
    "        print(text_md)\n",
    "        print(p.get_template())\n",
    "        print(\"\\n\\n\")\n",
    "\n",
    "def display_and_run_prompt(query_engine, query_str, show_prompt = True):\n",
    "    \"\"\"\n",
    "    Displays the current RAG prompt used and runs the query against the RAG workflow.\n",
    "    \"\"\"\n",
    "\n",
    "    if show_prompt:\n",
    "        print(\"----Displaying current prompt dictionary----\\n\")\n",
    "        prompts_dict = query_engine.get_prompts()\n",
    "        display_prompt_dict(prompts_dict)\n",
    "\n",
    "    response = query_engine.query(query_str)\n",
    "    print(f\"Response:\")\n",
    "    print(\"-\" * 80)\n",
    "    print(response.response)\n",
    "    print(\"-\" * 80)\n",
    "    print(f\"Source Documents:\")\n",
    "    print(\"-\" * 80)\n",
    "    for source in response.source_nodes:\n",
    "        print(f\"Sample Text: {source.text[:200]}\")\n",
    "        print(f\"Relevance score: {source.get_score():.3f}\")\n",
    "        print(f\"File Name: {source.metadata.get('file_name')}\")\n",
    "        print(f\"Page #: {source.metadata.get('page_label')}\")\n",
    "        print(f\"File Path: {source.metadata.get('file_path')}\")\n",
    "        print(\"-\" * 80)"
   ]
  },
  {
   "cell_type": "markdown",
   "metadata": {},
   "source": [
    "### LlamaIndex Built-in RAG"
   ]
  },
  {
   "cell_type": "code",
   "execution_count": 44,
   "metadata": {},
   "outputs": [],
   "source": [
    "def llama_built_in_prompt(query_engine, query_str, show_prompt = True):\n",
    "    display_and_run_prompt(query_engine, query_str, show_prompt)"
   ]
  },
  {
   "cell_type": "markdown",
   "metadata": {},
   "source": [
    "### Templeted RAG through LangChain"
   ]
  },
  {
   "cell_type": "code",
   "execution_count": 45,
   "metadata": {},
   "outputs": [],
   "source": [
    "def langchain_rag_prompt(query_engine, query_str, show_prompt = True):\n",
    "    langchain_prompt = hub.pull(\"rlm/rag-prompt\")\n",
    "\n",
    "    langchain_prompt_template = LangchainPromptTemplate(\n",
    "        template=langchain_prompt,\n",
    "        template_var_mappings={\"query_str\": \"question\", \"context_str\": \"context\"},\n",
    "    )\n",
    "\n",
    "    query_engine.update_prompts(\n",
    "        {\"response_synthesizer:text_qa_template\": langchain_prompt_template}\n",
    "    )\n",
    "\n",
    "    display_and_run_prompt(query_engine, query_str, show_prompt)"
   ]
  },
  {
   "cell_type": "markdown",
   "metadata": {},
   "source": [
    "### Custom RAG Implementation\n",
    "\n",
    "This custom RAG prompt highlights two important prompt engineering techniques:\n",
    "\n",
    "__Few-shot examples:__ Providing the model with a few examples of the desired input-output behavior helps guide the model's response, effectively demonstrating the task and the expected format. This is particularly useful when the task is complex or requires a specific style of output.\n",
    "\n",
    "__Grounding the output:__ Instructing the model to base its answer on the retrieved documents and to provide justification for the answer ensures that the response is factually grounded and relevant to the context. This is crucial for maintaining accuracy and preventing the model from generating responses that are either irrelevant or factually incorrect.\n"
   ]
  },
  {
   "cell_type": "code",
   "execution_count": 46,
   "metadata": {},
   "outputs": [],
   "source": [
    "def custom_few_shot_prompt(query_engine, query_str, show_prompt = True):\n",
    "    \"\"\"\n",
    "    Generating custom few shot prompt to show the desired output format and prevent hallucination by including reasoning in the response.\n",
    "    \"\"\"\n",
    "\n",
    "    qa_prompt_custom_string= \"\"\"\\\n",
    "    Context information is below.\n",
    "    ---------------------\n",
    "    {context_str}\n",
    "    ---------------------\n",
    "    Given the context information and not prior knowledge, answer the query asking about citations over different topics.\n",
    "\n",
    "    Please output your answer in the following JSON format:\n",
    "    JSON Output: [\n",
    "    \"answer\": 'This is the answer to the question',\n",
    "    \"justification\": 'This is the reasoning or evidence supporting the answer given the provided context'\n",
    "    ]\n",
    "\n",
    "    Example query and JSON output:\n",
    "    Query: Who are the authors of the paper?\n",
    "    JSON Output: [\n",
    "    \"answer\": \"The authors are Hikaru Fujita, Masaru Kashiwakura, Akihiro Kawagoe, Hisaki Hamamoto, Tetsuo Niitsuma, and Yuzuru Mitani.\"\n",
    "    \"justification\": \"The authors are listed on the first and last page in order.\"\n",
    "    ]\n",
    "\n",
    "    Query: When was there a failure at the Nakoso Power Station?\n",
    "    JSON Output: [\n",
    "    \"answer\": \"September  16,  2021\",\n",
    "    \"justification\": \"In the context provided it states: It was in this context\n",
    "    that  on  September  16,  2021,  a  failure  due  to  aging  forced  the  emergency  stop  of  the\n",
    "    unit No. 8 generator step-up transformer (built in 1981) at the Nakoso Power Station of\n",
    "    Jōban Joint Power Co., Ltd. \"\n",
    "    ]\n",
    "\n",
    "    Only answer the query provided. Return only one JSON answer/justification pair.\n",
    "    Query: {query_str}\n",
    "    Answer:\n",
    "    \"\"\"\n",
    "\n",
    "    custom_RAG_template = PromptTemplate(\n",
    "        template=qa_prompt_custom_string\n",
    "    )\n",
    "\n",
    "    query_engine.update_prompts(\n",
    "        {\"response_synthesizer:text_qa_template\": custom_RAG_template}\n",
    "    )\n",
    "\n",
    "    display_and_run_prompt(query_engine, query_str, show_prompt)"
   ]
  },
  {
   "cell_type": "code",
   "execution_count": 50,
   "metadata": {},
   "outputs": [],
   "source": [
    "def index_and_query_documents(documents, storage_context, query):\n",
    "    \"\"\"\n",
    "    Sets up vector store index to query against for a RAG pattern.\n",
    "    \"\"\"\n",
    "    #Using gemini embedding models\n",
    "    vector_index = VectorStoreIndex.from_documents(\n",
    "        documents, storage_context=storage_context\n",
    "    )\n",
    "\n",
    "    #Set up a query engine\n",
    "    query_engine = vector_index.as_query_engine()\n",
    "\n",
    "    print(colored(\"*******Option 1: LlamaIndex Built-In Prompt*******\", \"red\"))\n",
    "    llama_built_in_prompt(query_engine, query, show_prompt = False)\n",
    "    print(colored(\"*******Option 2: LangChain Template RAG Prompt*******\", \"blue\"))\n",
    "    langchain_rag_prompt(query_engine, query, show_prompt = False)\n",
    "    print(colored(\"*******Option 3: Custom Few-Shot Prompt*******\", \"green\"))\n",
    "    custom_few_shot_prompt(query_engine,query, show_prompt=False)\n"
   ]
  },
  {
   "cell_type": "code",
   "execution_count": 51,
   "metadata": {},
   "outputs": [
    {
     "name": "stdout",
     "output_type": "stream",
     "text": [
      "Upserting datapoints MatchingEngineIndex index: projects/726844691572/locations/us-central1/indexes/4322035073252589568\n",
      "MatchingEngineIndex index Upserted datapoints. Resource name: projects/726844691572/locations/us-central1/indexes/4322035073252589568\n",
      "\u001b[31m*******Option 1: LlamaIndex Built-In Prompt*******\u001b[0m\n",
      "Response:\n",
      "--------------------------------------------------------------------------------\n",
      "The minimum reserve rate of power is 3%. This means that there must always be enough power available to meet the demand, even if there is a sudden increase in demand or a power plant goes offline. The reserve rate is important for ensuring that the power grid remains stable and that there are no blackouts.\n",
      "--------------------------------------------------------------------------------\n",
      "Source Documents:\n",
      "--------------------------------------------------------------------------------\n",
      "Sample Text: 60.FEATURED ARTICLES Power Grids for a Sustainable Energy Future\n",
      "1. Introduction\n",
      "Th e proportion of Japan’s annual power generation capac-\n",
      "ity taken up by thermal power generation has decreased \n",
      "stead\n",
      "Relevance score: 0.609\n",
      "File Name: 04a02.pdf\n",
      "Page #: 60\n",
      "File Path: /usr/local/google/home/noabe/projects/llama/run-llama/run_llama/data/04a02.pdf\n",
      "--------------------------------------------------------------------------------\n",
      "\u001b[34m*******Option 2: LangChain Template RAG Prompt*******\u001b[0m\n",
      "Response:\n",
      "--------------------------------------------------------------------------------\n",
      "The minimum reserve rate of power in Japan is 3%. This means that there must always be enough power available to meet the demand, even if there is a sudden increase in demand or a power plant goes offline. The reserve rate is important for ensuring the stability of the power grid and preventing blackouts.\n",
      "--------------------------------------------------------------------------------\n",
      "Source Documents:\n",
      "--------------------------------------------------------------------------------\n",
      "Sample Text: 60.FEATURED ARTICLES Power Grids for a Sustainable Energy Future\n",
      "1. Introduction\n",
      "Th e proportion of Japan’s annual power generation capac-\n",
      "ity taken up by thermal power generation has decreased \n",
      "stead\n",
      "Relevance score: 0.609\n",
      "File Name: 04a02.pdf\n",
      "Page #: 60\n",
      "File Path: /usr/local/google/home/noabe/projects/llama/run-llama/run_llama/data/04a02.pdf\n",
      "--------------------------------------------------------------------------------\n",
      "\u001b[32m*******Option 3: Custom Few-Shot Prompt*******\u001b[0m\n",
      "Response:\n",
      "--------------------------------------------------------------------------------\n",
      "```json\n",
      "[\n",
      "  {\n",
      "    \"answer\": \"The minimum reserve rate of power is 3%.\",\n",
      "    \"justification\": \"The text states, \\\"The stable supply of electric power requires a minimum reserve rate of 3%\\\".\"\n",
      "  }\n",
      "]\n",
      "```\n",
      "--------------------------------------------------------------------------------\n",
      "Source Documents:\n",
      "--------------------------------------------------------------------------------\n",
      "Sample Text: 60.FEATURED ARTICLES Power Grids for a Sustainable Energy Future\n",
      "1. Introduction\n",
      "Th e proportion of Japan’s annual power generation capac-\n",
      "ity taken up by thermal power generation has decreased \n",
      "stead\n",
      "Relevance score: 0.609\n",
      "File Name: 04a02.pdf\n",
      "Page #: 60\n",
      "File Path: /usr/local/google/home/noabe/projects/llama/run-llama/run_llama/data/04a02.pdf\n",
      "--------------------------------------------------------------------------------\n"
     ]
    }
   ],
   "source": [
    "# Run the RAG workflow for the llama-index built in prompt, templated LangChain prompt, and custom few-shot prompt\n",
    "\n",
    "query = \"what is minimum reserve rate of power?\"\n",
    "\n",
    "vector_idx = index_and_query_documents(docs, storage_context, query)"
   ]
  },
  {
   "cell_type": "markdown",
   "metadata": {},
   "source": [
    "## Conclusions\n",
    "\n",
    "Congratulations! You've implemented LlamaIndex on VertexAI for RAG applications with various types of prompting.\n",
    "\n",
    "Feel free to play around with the different input queries, prompt types, prompt structures and see how that impacts the output.\n",
    "\n",
    "Happy coding."
   ]
  }
 ],
 "metadata": {
  "kernelspec": {
   "display_name": ".venv",
   "language": "python",
   "name": "python3"
  },
  "language_info": {
   "codemirror_mode": {
    "name": "ipython",
    "version": 3
   },
   "file_extension": ".py",
   "mimetype": "text/x-python",
   "name": "python",
   "nbconvert_exporter": "python",
   "pygments_lexer": "ipython3",
   "version": "3.11.9"
  }
 },
 "nbformat": 4,
 "nbformat_minor": 2
}
